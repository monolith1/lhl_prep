{
 "cells": [
  {
   "cell_type": "markdown",
   "metadata": {
    "ExecuteTime": {
     "end_time": "2020-02-05T17:56:18.818219Z",
     "start_time": "2020-02-05T17:56:18.810698Z"
    }
   },
   "source": [
    "## Exercise 1\n",
    "In Orange County, 51% of the adults are males. (It doesn't take too much advanced\n",
    "mathematics to deduce that the other 49% are females.) One adult is randomly selected\n",
    "for a survey involving credit card usage.\n",
    "\n",
    "- **(a)** Find the probability that the selected person is a male.\n",
    "\n",
    "- **(b)** It is later learned that the selected survey subject was smoking a cigar. Also, 9.5% of males smoke cigars, whereas 1.7% of females smoke cigars (based on data from the Substance Abuse and Mental Health Services Administration). Use this additional information to find the probability that the cigar−smoking respondent is a male\n",
    "\n",
    "Use following notation:\n",
    "M = male <br>\n",
    "F = female <br>\n",
    "C = cigar smoker<br>\n",
    "NC = not a cigar smoker<br>\n"
   ]
  },
  {
   "cell_type": "code",
   "execution_count": 42,
   "metadata": {},
   "outputs": [],
   "source": [
    "import numpy as np"
   ]
  },
  {
   "cell_type": "code",
   "execution_count": 43,
   "metadata": {},
   "outputs": [],
   "source": [
    "n_runs = 1000\n",
    "M = 0\n",
    "MC = 0\n",
    "MNC = 0\n",
    "F = 0\n",
    "FC = 0\n",
    "FNC = 0\n",
    "C = 0\n",
    "NC = 0"
   ]
  },
  {
   "cell_type": "code",
   "execution_count": 44,
   "metadata": {},
   "outputs": [],
   "source": [
    "for _ in range(n_runs):\n",
    "    if np.random.random() < 0.51: \n",
    "        M += 1\n",
    "        if np.random.random() < 0.095:\n",
    "            MC += 1\n",
    "            C +=1\n",
    "        else:\n",
    "            MNC += 1\n",
    "            NC += 1\n",
    "    else:\n",
    "        F += 1\n",
    "        if np.random.random() < 0.017:\n",
    "            FC += 1\n",
    "            C += 1\n",
    "        else:\n",
    "            FNC += 1\n",
    "            NC +=1"
   ]
  },
  {
   "cell_type": "code",
   "execution_count": 45,
   "metadata": {},
   "outputs": [],
   "source": [
    "M = M / n_runs * 100\n",
    "MC = MC / n_runs * 100\n",
    "MNC = MNC / n_runs * 100\n",
    "F = F / n_runs * 100\n",
    "FC = FC / n_runs * 100\n",
    "FNC = FNC / n_runs * 100\n",
    "C = C / n_runs * 100\n",
    "NC = NC / n_runs * 100"
   ]
  },
  {
   "cell_type": "code",
   "execution_count": 46,
   "metadata": {},
   "outputs": [],
   "source": [
    "# Bayes Theorem babyyyy\n",
    "# P(M|C) = P(M) * P(MC) / P(C)\n",
    "\n",
    "PMC = (M * MC) / C"
   ]
  },
  {
   "cell_type": "code",
   "execution_count": 47,
   "metadata": {},
   "outputs": [
    {
     "name": "stdout",
     "output_type": "stream",
     "text": [
      "Probability that selected person is male: 49.8%\n",
      "Probability that the cigar person is male: 41.49999999999999%\n"
     ]
    }
   ],
   "source": [
    "print(f\"Probability that selected person is male: {M}%\")\n",
    "print(f\"Probability that the cigar person is male: {PMC}%\")"
   ]
  },
  {
   "cell_type": "markdown",
   "metadata": {
    "ExecuteTime": {
     "end_time": "2020-02-05T17:56:20.532960Z",
     "start_time": "2020-02-05T17:56:20.525450Z"
    }
   },
   "source": [
    "# Exercise 2\n",
    "\n",
    "A diagnostic test has a probability 0.95 of giving a positive result when applied to a person suffering\n",
    "from a certain disease, and a probability 0.10 of giving a (false) positive when applied to a non-sufferer. It is\n",
    "estimated that 0.5 % of the population are sufferers. Suppose that the test is now administered to a person about\n",
    "whom we have no relevant information relating to the disease (apart from the fact that he/she comes from this\n",
    "population). \n",
    "\n",
    "Calculate the following probabilities:\n",
    "- **(a)** that the test result will be positive;\n",
    "- **(b)** that, given a positive result, the person is a sufferer;\n",
    "- **(c)** that, given a negative result, the person is a non-sufferer;\n",
    "- **(d)** that the person will be misclassified.\n",
    "\n",
    "Use following notation:\n",
    "\n",
    "T = test positive <br>\n",
    "NT = test negative<br>\n",
    "S = sufferer<br>\n",
    "NS = non-sufferer<br>\n",
    "M = misclassified<br>\n",
    "\n",
    "Solve it by two approaches:\n",
    "1. Arithmetically\n",
    "2. By simulation"
   ]
  },
  {
   "cell_type": "code",
   "execution_count": 48,
   "metadata": {},
   "outputs": [
    {
     "data": {
      "text/plain": [
       "0.10425000000000001"
      ]
     },
     "execution_count": 48,
     "metadata": {},
     "output_type": "execute_result"
    }
   ],
   "source": [
    "# A:\n",
    "\n",
    "# P(T) = P(TS) * P(S) + P(TNS) * P(NS)\n",
    "# P(T) = 0.95 * 0.005 + 0.1 * 0.995\n",
    "0.95 * 0.005 + 0.1 * 0.995"
   ]
  },
  {
   "cell_type": "code",
   "execution_count": 50,
   "metadata": {},
   "outputs": [
    {
     "data": {
      "text/plain": [
       "0.04556354916067146"
      ]
     },
     "execution_count": 50,
     "metadata": {},
     "output_type": "execute_result"
    }
   ],
   "source": [
    "# B:\n",
    "\n",
    "# P(ST) = P(S) * P(TS) / P(T) ---> P(T) can be expressed as P(TS) * P(S) + P(TNS) * P(NS)\n",
    "# P(ST) = (0.005 * 0.95) / (0.95 * 0.005 + 0.1 * 0.995)\n",
    "(0.005 * 0.95) / (0.95 * 0.005 + 0.1 * 0.995)"
   ]
  },
  {
   "cell_type": "code",
   "execution_count": 53,
   "metadata": {},
   "outputs": [],
   "source": [
    "# C:\n",
    "\n",
    "# P(NSNT) = P(NS) * P(NTNS) / P(NT)\n",
    "# P(NSNT) = (0.995 * ??) / ??"
   ]
  },
  {
   "cell_type": "code",
   "execution_count": null,
   "metadata": {},
   "outputs": [],
   "source": [
    "# D:\n",
    "\n",
    "# P(M) = (P(NS) * P(TNS) + (P(S) * P(NTS))\n",
    "# P(M) = (0.1 * 0.995) / (?? * 0.005)"
   ]
  },
  {
   "cell_type": "code",
   "execution_count": null,
   "metadata": {},
   "outputs": [],
   "source": []
  },
  {
   "cell_type": "code",
   "execution_count": 90,
   "metadata": {},
   "outputs": [],
   "source": [
    "n_runs = 1000\n",
    "T = 0\n",
    "TS = 0\n",
    "TNS = 0\n",
    "NT = 0\n",
    "NTS = 0\n",
    "NTNS = 0\n",
    "S = 0\n",
    "NS = 0\n",
    "M = 0\n",
    "ST = 0\n",
    "NSNT = 0"
   ]
  },
  {
   "cell_type": "code",
   "execution_count": 91,
   "metadata": {},
   "outputs": [],
   "source": [
    "for _ in range(n_runs):\n",
    "    if np.random.random() < 0.005: \n",
    "        S += 1\n",
    "        if np.random.random() < 0.95:\n",
    "            TS += 1\n",
    "            T += 1\n",
    "        else:\n",
    "            NTS += 1\n",
    "            M += 1\n",
    "    else:\n",
    "        NS += 1\n",
    "        if np.random.random() < 0.1:\n",
    "            T += 1\n",
    "            TNS += 1\n",
    "            M += 1\n",
    "        else:\n",
    "            NT += 1\n",
    "            NTNS += 1"
   ]
  },
  {
   "cell_type": "code",
   "execution_count": 92,
   "metadata": {},
   "outputs": [],
   "source": [
    "T = T / n_runs * 100\n",
    "TS = NS / n_runs * 100\n",
    "TNS = TNS / n_runs * 100\n",
    "NT = NT / n_runs * 100\n",
    "NTS = NTS / n_runs * 100\n",
    "NTNS = NTNS / n_runs * 100\n",
    "S = S / n_runs * 100\n",
    "NS = NS / n_runs * 100\n",
    "M = M / n_runs * 100"
   ]
  },
  {
   "cell_type": "code",
   "execution_count": 96,
   "metadata": {},
   "outputs": [],
   "source": [
    "ST = (TS * S) / (TS * S + TNS * NS) * 100\n",
    "NSNT = NTNS * NS / NT "
   ]
  },
  {
   "cell_type": "code",
   "execution_count": 97,
   "metadata": {},
   "outputs": [
    {
     "name": "stdout",
     "output_type": "stream",
     "text": [
      "Positive test: 9.8%\n",
      "Positive test and suffering: 99.5%\n",
      "positive test and not suffering: 9.3%\n",
      "Negative test: 90.2%\n",
      "Negative test and suffering: 0.0%\n",
      "Negative test and not suffering: 90.2%\n",
      "Suffering: 0.5%\n",
      "Not suffering: 99.5%\n",
      "Misclassified: 9.3\n"
     ]
    }
   ],
   "source": [
    "print(f'Positive test: {T}%')\n",
    "print(f'Positive test and suffering: {TS}%')\n",
    "print(f'positive test and not suffering: {TNS}%')\n",
    "print(f'Negative test: {NT}%')\n",
    "print(f'Negative test and suffering: {NTS}%')\n",
    "print(f'Negative test and not suffering: {NTNS}%')\n",
    "print(f'Suffering: {S}%')\n",
    "print(f'Not suffering: {NS}%')\n",
    "print(f'Misclassified: {M}')"
   ]
  },
  {
   "cell_type": "code",
   "execution_count": 98,
   "metadata": {},
   "outputs": [
    {
     "name": "stdout",
     "output_type": "stream",
     "text": [
      "A: Probability that the test result will be positive: 9.8%\n",
      "B: Probability that given a positive result, the person is a sufferer: 5.1020408163265305%\n",
      "C: Probability that, given a negative result, the person is a non-sufferer: 99.49999999999999%\n",
      "D: Probability that the person will be misclassified: 9.3%\n"
     ]
    }
   ],
   "source": [
    "print(f'A: Probability that the test result will be positive: {T}%')\n",
    "print(f'B: Probability that given a positive result, the person is a sufferer: {ST}%')\n",
    "print(f'C: Probability that, given a negative result, the person is a non-sufferer: {NSNT}%')\n",
    "print(f'D: Probability that the person will be misclassified: {M}%')"
   ]
  },
  {
   "cell_type": "code",
   "execution_count": null,
   "metadata": {},
   "outputs": [],
   "source": []
  }
 ],
 "metadata": {
  "kernelspec": {
   "display_name": "Python 3 (ipykernel)",
   "language": "python",
   "name": "python3"
  },
  "language_info": {
   "codemirror_mode": {
    "name": "ipython",
    "version": 3
   },
   "file_extension": ".py",
   "mimetype": "text/x-python",
   "name": "python",
   "nbconvert_exporter": "python",
   "pygments_lexer": "ipython3",
   "version": "3.8.11"
  },
  "toc": {
   "base_numbering": 1,
   "nav_menu": {},
   "number_sections": true,
   "sideBar": true,
   "skip_h1_title": false,
   "title_cell": "Table of Contents",
   "title_sidebar": "Contents",
   "toc_cell": false,
   "toc_position": {},
   "toc_section_display": true,
   "toc_window_display": false
  },
  "varInspector": {
   "cols": {
    "lenName": 16,
    "lenType": 16,
    "lenVar": 40
   },
   "kernels_config": {
    "python": {
     "delete_cmd_postfix": "",
     "delete_cmd_prefix": "del ",
     "library": "var_list.py",
     "varRefreshCmd": "print(var_dic_list())"
    },
    "r": {
     "delete_cmd_postfix": ") ",
     "delete_cmd_prefix": "rm(",
     "library": "var_list.r",
     "varRefreshCmd": "cat(var_dic_list()) "
    }
   },
   "types_to_exclude": [
    "module",
    "function",
    "builtin_function_or_method",
    "instance",
    "_Feature"
   ],
   "window_display": false
  }
 },
 "nbformat": 4,
 "nbformat_minor": 4
}
