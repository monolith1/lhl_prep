{
 "cells": [
  {
   "cell_type": "markdown",
   "id": "c3ac8863-0eec-4a9a-a196-03b2e2f35294",
   "metadata": {},
   "source": [
    "## Operations with Matrices"
   ]
  },
  {
   "cell_type": "markdown",
   "id": "c79b6b8d-60d5-4e7a-b1ff-bc49230aafe3",
   "metadata": {
    "tags": []
   },
   "source": [
    "### Setup"
   ]
  },
  {
   "cell_type": "code",
   "execution_count": 1,
   "id": "fdcf5bef-ada6-41b5-b08d-e75439471e7a",
   "metadata": {},
   "outputs": [],
   "source": [
    "import numpy as np"
   ]
  },
  {
   "cell_type": "code",
   "execution_count": 7,
   "id": "4d8e6fdc-0f0d-4e3a-8edc-18c0a80e74f0",
   "metadata": {},
   "outputs": [
    {
     "name": "stdout",
     "output_type": "stream",
     "text": [
      "[1 2 3 4]\n"
     ]
    },
    {
     "data": {
      "text/plain": [
       "numpy.ndarray"
      ]
     },
     "execution_count": 7,
     "metadata": {},
     "output_type": "execute_result"
    }
   ],
   "source": [
    "# create vector\n",
    "\n",
    "x = np.array([1, 2, 3, 4])\n",
    "print(x)\n",
    "\n",
    "type(x)"
   ]
  },
  {
   "cell_type": "code",
   "execution_count": 8,
   "id": "91248668-e08d-425d-a994-bdf6f11dce5f",
   "metadata": {},
   "outputs": [
    {
     "name": "stdout",
     "output_type": "stream",
     "text": [
      "[[1 2]\n",
      " [3 4]\n",
      " [4 5]]\n"
     ]
    },
    {
     "data": {
      "text/plain": [
       "numpy.ndarray"
      ]
     },
     "execution_count": 8,
     "metadata": {},
     "output_type": "execute_result"
    }
   ],
   "source": [
    "# create 3x2 matrix\n",
    "\n",
    "A = np.array([[1,2],[3,4],[4,5]])\n",
    "print(A)\n",
    "\n",
    "type(A)"
   ]
  },
  {
   "cell_type": "markdown",
   "id": "c9fded69-9572-4b61-8c5b-6039985b1d9c",
   "metadata": {
    "tags": []
   },
   "source": [
    "### Shape"
   ]
  },
  {
   "cell_type": "code",
   "execution_count": 10,
   "id": "39f8db8e-8955-45ac-80f2-1a01b1e7e284",
   "metadata": {},
   "outputs": [
    {
     "data": {
      "text/plain": [
       "(3, 2)"
      ]
     },
     "execution_count": 10,
     "metadata": {},
     "output_type": "execute_result"
    }
   ],
   "source": [
    "# Numpy arrays have a shape attribute, which can be accessed like so\n",
    "\n",
    "A.shape"
   ]
  },
  {
   "cell_type": "code",
   "execution_count": 11,
   "id": "af90e6bd-aaee-4ba9-a420-86c4a5cce95d",
   "metadata": {},
   "outputs": [
    {
     "data": {
      "text/plain": [
       "(4,)"
      ]
     },
     "execution_count": 11,
     "metadata": {},
     "output_type": "execute_result"
    }
   ],
   "source": [
    "# For a vector, the shape will correspond with the len(x)\n",
    "\n",
    "x.shape"
   ]
  },
  {
   "cell_type": "markdown",
   "id": "295d51b3-5c80-4a2e-ac45-710214486ed1",
   "metadata": {
    "tags": []
   },
   "source": [
    "### Transposition"
   ]
  },
  {
   "cell_type": "code",
   "execution_count": 15,
   "id": "46fe840e-70b2-45b6-909d-2092e098906f",
   "metadata": {},
   "outputs": [],
   "source": [
    "# We can access the transpose() method of a numpy.ndarray object by\n",
    "\n",
    "A_T = A.T\n",
    "\n",
    "# This can also be expressed by\n",
    "# A_T = A.transpose()"
   ]
  },
  {
   "cell_type": "code",
   "execution_count": 16,
   "id": "08e714ef-07d2-413b-ab4b-7479c85296f5",
   "metadata": {},
   "outputs": [
    {
     "data": {
      "text/plain": [
       "(2, 3)"
      ]
     },
     "execution_count": 16,
     "metadata": {},
     "output_type": "execute_result"
    }
   ],
   "source": [
    "A_T.shape"
   ]
  },
  {
   "cell_type": "markdown",
   "id": "316cd94e-0ef2-4082-b12d-7c11432f08e3",
   "metadata": {
    "tags": []
   },
   "source": [
    "### Matrix Addition"
   ]
  },
  {
   "cell_type": "code",
   "execution_count": 17,
   "id": "f8c8c6ba-bd4e-4b3b-950b-24fd8bce7de7",
   "metadata": {},
   "outputs": [
    {
     "data": {
      "text/plain": [
       "array([[3, 5],\n",
       "       [7, 4],\n",
       "       [4, 3]])"
      ]
     },
     "execution_count": 17,
     "metadata": {},
     "output_type": "execute_result"
    }
   ],
   "source": [
    "B = np.array([[3, 5], [7, 4], [4, 3]])\n",
    "B"
   ]
  },
  {
   "cell_type": "code",
   "execution_count": 18,
   "id": "e5f8317e-e709-40aa-9cec-50297a7c1aee",
   "metadata": {},
   "outputs": [
    {
     "data": {
      "text/plain": [
       "array([[ 4,  7],\n",
       "       [10,  8],\n",
       "       [ 8,  8]])"
      ]
     },
     "execution_count": 18,
     "metadata": {},
     "output_type": "execute_result"
    }
   ],
   "source": [
    "# Adding one matrix to another\n",
    "\n",
    "C = A + B\n",
    "C"
   ]
  },
  {
   "cell_type": "code",
   "execution_count": 19,
   "id": "8c1383a3-f8fa-4364-9f99-a4346c99a198",
   "metadata": {},
   "outputs": [
    {
     "data": {
      "text/plain": [
       "array([[2, 3],\n",
       "       [4, 5],\n",
       "       [5, 6]])"
      ]
     },
     "execution_count": 19,
     "metadata": {},
     "output_type": "execute_result"
    }
   ],
   "source": [
    "# Adding a matrix to a scalar\n",
    "\n",
    "D = A + 1\n",
    "D"
   ]
  },
  {
   "cell_type": "markdown",
   "id": "42f16a9a-fafc-4aad-8ac8-529bf4ffa04b",
   "metadata": {},
   "source": [
    "Numpy can handle operations on arrays of different shapes. A smaller array will be extended to match the shape of a bigger one. This is called broadcasting. The advantage is that it is done under the hood – in C (like any other vectorized operation in Numpy). Actually, we've already used broadcasting in the example above. The scalar was converted to an array of the same shape as the matrix A.\n",
    "Broadcasting works only if the first array has the same number of rows as the second one, and one of the arrays has only one column (e.g. a matrix Bi,1 can be broadcast across Ai,j). Broadcasting of a scalar value works every time."
   ]
  },
  {
   "cell_type": "markdown",
   "id": "948277d3-2987-4d92-ac3d-546bc99d8466",
   "metadata": {
    "tags": []
   },
   "source": [
    "### Matrix Multiplication"
   ]
  },
  {
   "cell_type": "code",
   "execution_count": 20,
   "id": "03f27190-4c07-4102-8f53-f2978717bd8f",
   "metadata": {},
   "outputs": [
    {
     "data": {
      "text/plain": [
       "array([[1, 2],\n",
       "       [3, 4],\n",
       "       [5, 6]])"
      ]
     },
     "execution_count": 20,
     "metadata": {},
     "output_type": "execute_result"
    }
   ],
   "source": [
    "A = np.array([[1, 2], [3, 4], [5, 6]])\n",
    "A"
   ]
  },
  {
   "cell_type": "code",
   "execution_count": 21,
   "id": "15b33bf6-ac94-4da2-bd4d-559baa0a9523",
   "metadata": {},
   "outputs": [
    {
     "data": {
      "text/plain": [
       "array([[2],\n",
       "       [4]])"
      ]
     },
     "execution_count": 21,
     "metadata": {},
     "output_type": "execute_result"
    }
   ],
   "source": [
    "B = np.array([[2], [4]])\n",
    "B"
   ]
  },
  {
   "cell_type": "code",
   "execution_count": 22,
   "id": "31c00122-01b8-40a3-983c-1276bb285c52",
   "metadata": {},
   "outputs": [
    {
     "data": {
      "text/plain": [
       "array([[10],\n",
       "       [22],\n",
       "       [34]])"
      ]
     },
     "execution_count": 22,
     "metadata": {},
     "output_type": "execute_result"
    }
   ],
   "source": [
    "# Multiply the matrices\n",
    "\n",
    "C = np.dot(A, B)\n",
    "C\n",
    "\n",
    "# Can also be written as\n",
    "# C = A.dot(B)"
   ]
  },
  {
   "cell_type": "markdown",
   "id": "b593ecf1-031b-4d8c-911f-1216d0b62969",
   "metadata": {
    "tags": []
   },
   "source": [
    "### Identity Matrices"
   ]
  },
  {
   "cell_type": "markdown",
   "id": "6b5294d4-7fd3-4aef-9498-9d64c82ef385",
   "metadata": {},
   "source": [
    "An identity matrix (In) is a special square (nxn) matrix which has 1s on the main diagonal and 0s everywhere else."
   ]
  },
  {
   "cell_type": "code",
   "execution_count": 24,
   "id": "816f2e13-21c5-4281-bb26-984173803d17",
   "metadata": {},
   "outputs": [
    {
     "data": {
      "text/plain": [
       "array([[1., 0., 0.],\n",
       "       [0., 1., 0.],\n",
       "       [0., 0., 1.]])"
      ]
     },
     "execution_count": 24,
     "metadata": {},
     "output_type": "execute_result"
    }
   ],
   "source": [
    "I = np.eye(3)\n",
    "I"
   ]
  },
  {
   "cell_type": "code",
   "execution_count": 25,
   "id": "2eb46c0f-0f8a-42da-a44a-5b1d679630a8",
   "metadata": {},
   "outputs": [
    {
     "data": {
      "text/plain": [
       "array([[1., 2.],\n",
       "       [3., 4.],\n",
       "       [5., 6.]])"
      ]
     },
     "execution_count": 25,
     "metadata": {},
     "output_type": "execute_result"
    }
   ],
   "source": [
    "# Multiplying an identity matrix with another matrix results in the same matrix\n",
    "\n",
    "IA = I.dot(A)\n",
    "IA"
   ]
  },
  {
   "cell_type": "markdown",
   "id": "31fb2f4a-4110-49ee-a6ac-f8928764db5f",
   "metadata": {},
   "source": [
    "### Determinant"
   ]
  },
  {
   "cell_type": "code",
   "execution_count": 26,
   "id": "7a5a2dc2-7e35-4e1e-84fb-4d03fb4a865a",
   "metadata": {},
   "outputs": [
    {
     "data": {
      "text/plain": [
       "array([[1, 2],\n",
       "       [3, 4]])"
      ]
     },
     "execution_count": 26,
     "metadata": {},
     "output_type": "execute_result"
    }
   ],
   "source": [
    "# Determinants can be computed only from square matrices\n",
    "\n",
    "M = np.array([[1,2],[3,4]])\n",
    "M"
   ]
  },
  {
   "cell_type": "code",
   "execution_count": 27,
   "id": "8999c5d9-02c1-4e3b-adaf-93af8d74910b",
   "metadata": {},
   "outputs": [
    {
     "data": {
      "text/plain": [
       "-2.0000000000000004"
      ]
     },
     "execution_count": 27,
     "metadata": {},
     "output_type": "execute_result"
    }
   ],
   "source": [
    "det_M = np.linalg.det(M)\n",
    "det_M"
   ]
  },
  {
   "cell_type": "markdown",
   "id": "c5ce04f6-b2cd-4511-b237-da4ef2ce64d2",
   "metadata": {},
   "source": [
    "### Inverse Matrices"
   ]
  },
  {
   "cell_type": "markdown",
   "id": "9df9395e-008f-4ba7-a699-a700963cffd8",
   "metadata": {},
   "source": [
    "The inverse matrix of A with shape (nxn) is denoted as A-1. It is a matrix that results in an identity matrix when multiplied by A (AA-1 = In). This means that if we apply a linear transformation to the matrix with A, it is possible to go back with A-1. This provides a way to cancel the transformation."
   ]
  },
  {
   "cell_type": "code",
   "execution_count": 31,
   "id": "12c551b1-5636-4807-9e45-c144ea1c476a",
   "metadata": {},
   "outputs": [
    {
     "data": {
      "text/plain": [
       "array([[ 3,  0,  2],\n",
       "       [ 2,  0, -2],\n",
       "       [ 0,  1,  1]])"
      ]
     },
     "execution_count": 31,
     "metadata": {},
     "output_type": "execute_result"
    }
   ],
   "source": [
    "A = np.array([[3, 0, 2], [2, 0, -2], [0, 1, 1]])\n",
    "A"
   ]
  },
  {
   "cell_type": "code",
   "execution_count": 32,
   "id": "1114f591-51bc-4836-aca7-9eb7b97b10d3",
   "metadata": {},
   "outputs": [
    {
     "data": {
      "text/plain": [
       "array([[ 0.2,  0.2,  0. ],\n",
       "       [-0.2,  0.3,  1. ],\n",
       "       [ 0.2, -0.3, -0. ]])"
      ]
     },
     "execution_count": 32,
     "metadata": {},
     "output_type": "execute_result"
    }
   ],
   "source": [
    "A_inv = np.linalg.inv(A)\n",
    "A_inv"
   ]
  },
  {
   "cell_type": "code",
   "execution_count": 33,
   "id": "1d7b97fe-2056-4dcc-80be-e68bf668c7b0",
   "metadata": {},
   "outputs": [
    {
     "data": {
      "text/plain": [
       "array([[ 1.00000000e+00,  0.00000000e+00, -1.11022302e-16],\n",
       "       [ 0.00000000e+00,  1.00000000e+00,  0.00000000e+00],\n",
       "       [ 0.00000000e+00,  0.00000000e+00,  1.00000000e+00]])"
      ]
     },
     "execution_count": 33,
     "metadata": {},
     "output_type": "execute_result"
    }
   ],
   "source": [
    "# Verify that this inversion is accurate\n",
    "\n",
    "I = A_inv.dot(A)\n",
    "I"
   ]
  }
 ],
 "metadata": {
  "kernelspec": {
   "display_name": "Python 3 (ipykernel)",
   "language": "python",
   "name": "python3"
  },
  "language_info": {
   "codemirror_mode": {
    "name": "ipython",
    "version": 3
   },
   "file_extension": ".py",
   "mimetype": "text/x-python",
   "name": "python",
   "nbconvert_exporter": "python",
   "pygments_lexer": "ipython3",
   "version": "3.8.11"
  }
 },
 "nbformat": 4,
 "nbformat_minor": 5
}
