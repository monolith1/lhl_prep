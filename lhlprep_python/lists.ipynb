{
 "cells": [
  {
   "cell_type": "code",
   "execution_count": 2,
   "id": "3c233d3f-e41b-4bb5-beed-6033c8a716f1",
   "metadata": {},
   "outputs": [
    {
     "name": "stdout",
     "output_type": "stream",
     "text": [
      "['foo', 'bar', 200, Type help() for interactive help, or help(object) for help about object.]\n"
     ]
    }
   ],
   "source": [
    "# lists\n",
    "\n",
    "a = ['foo', 'bar', 200, help]\n",
    "print(a)"
   ]
  },
  {
   "cell_type": "code",
   "execution_count": 3,
   "id": "c949a292-2db1-4334-ab35-e74a32030ad6",
   "metadata": {},
   "outputs": [
    {
     "name": "stdout",
     "output_type": "stream",
     "text": [
      "[Type help() for interactive help, or help(object) for help about object., 200, 'bar', 'foo']\n",
      "False\n"
     ]
    }
   ],
   "source": [
    "# Lists are ordered.\n",
    "\n",
    "a = ['foo', 'bar', 200, help]\n",
    "\n",
    "b = a[::-1]\n",
    "print(b)\n",
    "print(a == b)"
   ]
  },
  {
   "cell_type": "code",
   "execution_count": 4,
   "id": "d4509edb-3505-4dcb-a7f5-6a6ba312a7c8",
   "metadata": {},
   "outputs": [
    {
     "name": "stdout",
     "output_type": "stream",
     "text": [
      "['foo', 'bar', 200, Type help() for interactive help, or help(object) for help about object.]\n"
     ]
    }
   ],
   "source": [
    "# Lists can contain any arbitrary objects.\n",
    "\n",
    "a = ['foo', 'bar', 200, help]\n",
    "\n",
    "print(a)"
   ]
  },
  {
   "cell_type": "code",
   "execution_count": 5,
   "id": "26069e8c-aa8d-4ac4-857e-19b3bc823abc",
   "metadata": {},
   "outputs": [
    {
     "name": "stdout",
     "output_type": "stream",
     "text": [
      "foo\n",
      "['bar', 200]\n",
      "[Type help() for interactive help, or help(object) for help about object., 200, 'bar', 'foo']\n",
      "False\n",
      "True\n",
      "True\n",
      "4\n"
     ]
    }
   ],
   "source": [
    "# List elements can be accessed by index.\n",
    "\n",
    "a = ['foo', 'bar', 200, help]\n",
    "\n",
    "print(a[0])\n",
    "print(a[1:3])\n",
    "print(a[::-1])\n",
    "\n",
    "print(a[:] is a)\n",
    "print('foo' in a)\n",
    "print('lol' not in a)\n",
    "\n",
    "print(len(a))\n",
    "# TYPEERROR print(min(a))\n",
    "# TYPEERROR print(max(a))\n"
   ]
  },
  {
   "cell_type": "code",
   "execution_count": 6,
   "id": "5cbb379b-3561-42e4-9d8b-fff9b0c11ffa",
   "metadata": {},
   "outputs": [
    {
     "name": "stdout",
     "output_type": "stream",
     "text": [
      "[12, 24, 182, ['foo', 'bar', 200, Type help() for interactive help, or help(object) for help about object.]]\n",
      "foo\n"
     ]
    }
   ],
   "source": [
    "# Lists can be nested to arbitrary depth.\n",
    "\n",
    "a = ['foo', 'bar', 200, help]\n",
    "\n",
    "b = [12, 24, 182, a]\n",
    "print(b)\n",
    "print(b[3][0])"
   ]
  },
  {
   "cell_type": "code",
   "execution_count": 6,
   "id": "e9dc523d-1f22-4de8-94bf-c480eb493443",
   "metadata": {},
   "outputs": [
    {
     "name": "stdout",
     "output_type": "stream",
     "text": [
      "['foo', 'bar', 10, Type help() for interactive help, or help(object) for help about object.]\n",
      "['foo', 'ooo', 'bar', 10, Type help() for interactive help, or help(object) for help about object.]\n",
      "['foo', 'bar', 10, Type help() for interactive help, or help(object) for help about object.]\n",
      "['prepend', 'list', 'foo', 'bar', 10, Type help() for interactive help, or help(object) for help about object., 'append', 'list']\n",
      "['prepend', 'list', 'foo', 'bar', 10, Type help() for interactive help, or help(object) for help about object., 'append', 'list', ['l', 'o', 'l']]\n",
      "['prepend', 'list', 'foo', 'bar', 10, Type help() for interactive help, or help(object) for help about object., 'append', 'list', ['l', 'o', 'l'], 'l', 'o', 'l']\n",
      "['prepend', 'list', 'foo', 'lol', 'bar', 10, Type help() for interactive help, or help(object) for help about object., 'append', 'list', ['l', 'o', 'l'], 'l', 'o', 'l']\n",
      "['list', 'foo', 'lol', 'bar', 10, Type help() for interactive help, or help(object) for help about object., 'append', 'list', ['l', 'o', 'l'], 'l', 'o', 'l']\n",
      "l\n",
      "['list', 'foo', 'lol', 'bar', 10, Type help() for interactive help, or help(object) for help about object., 'append', 'list', ['l', 'o', 'l'], 'l', 'o']\n",
      "list\n",
      "['foo', 'lol', 'bar', 10, Type help() for interactive help, or help(object) for help about object., 'append', 'list', ['l', 'o', 'l'], 'l', 'o']\n"
     ]
    }
   ],
   "source": [
    "# Lists are mutable.\n",
    "\n",
    "a = ['foo', 'bar', 200, help]\n",
    "\n",
    "a[2] = 10\n",
    "print(a)\n",
    "\n",
    "a[0:2] = [\"foo\", \"ooo\", \"bar\"]\n",
    "print(a)\n",
    "\n",
    "a[1:2] = []\n",
    "print(a)\n",
    "\n",
    "a += ['append', 'list']\n",
    "a = ['prepend', 'list'] + a\n",
    "print(a)\n",
    "\n",
    "a.append(['l','o','l'])\n",
    "print(a)\n",
    "\n",
    "a.extend('lol')\n",
    "print(a)\n",
    "\n",
    "# SYNTAX: a.insert(<index>, <obj>)\n",
    "a.insert(3, 'lol')\n",
    "print(a)\n",
    "\n",
    "a.remove('prepend')\n",
    "print(a)\n",
    "\n",
    "#removes last (or specified) item from list, and returns that item\n",
    "print(a.pop())\n",
    "print(a)\n",
    "print(a.pop(0))\n",
    "print(a)"
   ]
  },
  {
   "cell_type": "code",
   "execution_count": 11,
   "id": "8ac4dfde-d14d-4df1-ad2f-d9e6cd6264f9",
   "metadata": {},
   "outputs": [
    {
     "name": "stdout",
     "output_type": "stream",
     "text": [
      "['foo', 'bar', 200, Type help() for interactive help, or help(object) for help about object., 24]\n",
      "['foo', 'bar', 200, Type help() for interactive help, or help(object) for help about object.]\n"
     ]
    }
   ],
   "source": [
    "# Lists are dynamic.\n",
    "\n",
    "a = ['foo', 'bar', 200, help]\n",
    "\n",
    "a.append(24)\n",
    "print(a)\n",
    "\n",
    "del a[-1]\n",
    "print(a)"
   ]
  }
 ],
 "metadata": {
  "kernelspec": {
   "display_name": "Python 3 (ipykernel)",
   "language": "python",
   "name": "python3"
  },
  "language_info": {
   "codemirror_mode": {
    "name": "ipython",
    "version": 3
   },
   "file_extension": ".py",
   "mimetype": "text/x-python",
   "name": "python",
   "nbconvert_exporter": "python",
   "pygments_lexer": "ipython3",
   "version": "3.8.11"
  }
 },
 "nbformat": 4,
 "nbformat_minor": 5
}
