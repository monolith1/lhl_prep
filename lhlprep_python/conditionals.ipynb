{
 "cells": [
  {
   "cell_type": "code",
   "execution_count": 2,
   "id": "0a662f5e-c01e-423c-b87b-ac089a3fd2d4",
   "metadata": {},
   "outputs": [
    {
     "name": "stdout",
     "output_type": "stream",
     "text": [
      "yes\n"
     ]
    }
   ],
   "source": [
    "# if statement\n",
    "\n",
    "x = 0\n",
    "y = 5\n",
    "\n",
    "if x < y:\n",
    "    print('yes')"
   ]
  },
  {
   "cell_type": "code",
   "execution_count": 4,
   "id": "86da226f-d214-494a-8ccf-e9a5306dcd1f",
   "metadata": {},
   "outputs": [
    {
     "name": "stdout",
     "output_type": "stream",
     "text": [
      "Yup\n"
     ]
    }
   ],
   "source": [
    "# else and elif\n",
    "\n",
    "x = 0\n",
    "y = 5\n",
    "\n",
    "if x > y:\n",
    "    print('Something is wrong here')\n",
    "elif x == y:\n",
    "    print(\"I don't think so\")\n",
    "else:\n",
    "    print('Yup')"
   ]
  },
  {
   "cell_type": "code",
   "execution_count": 5,
   "id": "e354968d-07e2-4b5a-a297-458ca0a6500e",
   "metadata": {},
   "outputs": [
    {
     "name": "stdout",
     "output_type": "stream",
     "text": [
      "OK\n",
      "You were right\n",
      "This is fun!\n"
     ]
    }
   ],
   "source": [
    "# one line if statements can contain any number of resulting statements. This is recommended against (for readability) by PEP8\n",
    "\n",
    "x = 0\n",
    "y = 5\n",
    "\n",
    "if x < y: print('OK'); print(\"You were right\"); print(\"This is fun!\")"
   ]
  },
  {
   "cell_type": "code",
   "execution_count": 8,
   "id": "4eca23f6-1cc8-48e8-bfd7-f615a59f285e",
   "metadata": {},
   "outputs": [
    {
     "name": "stdout",
     "output_type": "stream",
     "text": [
      "Everything's normal\n",
      "bar\n"
     ]
    }
   ],
   "source": [
    "# conditional expressions (ternary operator)\n",
    "# SYNTAX: <expr1> if <conditional_expr> else <expr2>\n",
    "\n",
    "x = 0\n",
    "y = 5\n",
    "\n",
    "print(\"Something's fishy\") if x > y else print(\"Everything's normal\")\n",
    "\n",
    "# can be strung together\n",
    "\n",
    "s = ('foo' if (x == 1) else\n",
    "     'bar' if (x == 0) else\n",
    "     'cheese'\n",
    "    )\n",
    "print(s)"
   ]
  },
  {
   "cell_type": "code",
   "execution_count": 10,
   "id": "36d352f3-8267-4adc-ad39-9f7a7fcb24a1",
   "metadata": {},
   "outputs": [],
   "source": [
    "# pass statement is a placeholder that exits the conditional statement without error\n",
    "\n",
    "x = 0\n",
    "y = 5\n",
    "\n",
    "if x == y:\n",
    "    pass"
   ]
  },
  {
   "cell_type": "code",
   "execution_count": 16,
   "id": "eb467078-73fd-4c55-8cee-2d1a66263378",
   "metadata": {},
   "outputs": [
    {
     "name": "stdout",
     "output_type": "stream",
     "text": [
      "4\n",
      "3\n",
      "2\n",
      "1\n",
      "0\n",
      "16\n",
      "8\n",
      "4\n",
      "2\n",
      "1\n"
     ]
    }
   ],
   "source": [
    "# while loops allow for indefinite iteration\n",
    "\n",
    "x = 0\n",
    "y = 5\n",
    "\n",
    "while y > 0:\n",
    "    y -= 1\n",
    "    print(y)\n",
    "    \n",
    "a = [1, 2, 4, 8, 16]\n",
    "\n",
    "while a:\n",
    "    print(a.pop())"
   ]
  },
  {
   "cell_type": "code",
   "execution_count": 18,
   "id": "c04389b5-a02c-4da3-9975-c108d46d66d3",
   "metadata": {},
   "outputs": [
    {
     "name": "stdout",
     "output_type": "stream",
     "text": [
      "4\n",
      "3\n",
      "4\n",
      "3\n",
      "1\n",
      "0\n"
     ]
    }
   ],
   "source": [
    "# break and continue statements\n",
    "\n",
    "n = 5\n",
    "\n",
    "while n > 0:\n",
    "    n -= 1\n",
    "    if n == 2:\n",
    "        break\n",
    "    print(n)\n",
    "\n",
    "n = 5\n",
    "\n",
    "while n > 0:\n",
    "    n -= 1\n",
    "    if n == 2:\n",
    "        continue\n",
    "    print(n)"
   ]
  },
  {
   "cell_type": "code",
   "execution_count": 19,
   "id": "1c9ab256-71b0-4240-9210-0dbcab1491aa",
   "metadata": {},
   "outputs": [
    {
     "name": "stdout",
     "output_type": "stream",
     "text": [
      "4\n",
      "3\n",
      "2\n",
      "1\n",
      "0\n",
      "Loop done.\n"
     ]
    }
   ],
   "source": [
    "# else clause is only executed if WHILE loop terminates by exhaustion (not with a break statement)\n",
    "\n",
    "n = 5\n",
    "while n > 0:\n",
    "    n -=1\n",
    "    print(n)\n",
    "else:\n",
    "    print('Loop done.')"
   ]
  },
  {
   "cell_type": "code",
   "execution_count": 20,
   "id": "a5e27dc4-aeab-45b2-807d-6fa347463f65",
   "metadata": {},
   "outputs": [
    {
     "name": "stdout",
     "output_type": "stream",
     "text": [
      "foo\n",
      "> baz\n",
      "> qux\n",
      "bar\n",
      "> baz\n",
      "> qux\n"
     ]
    }
   ],
   "source": [
    "# WHILE loops can be nested with other loops of any type\n",
    "\n",
    "a = ['foo', 'bar']\n",
    "while len(a):\n",
    "    print(a.pop(0))\n",
    "    b = ['baz', 'qux']\n",
    "    while len(b):\n",
    "        print('>', b.pop(0))\n"
   ]
  },
  {
   "cell_type": "code",
   "execution_count": 21,
   "id": "9556f454-e8b9-4345-8489-926b207661ea",
   "metadata": {},
   "outputs": [
    {
     "name": "stdout",
     "output_type": "stream",
     "text": [
      "4\n",
      "3\n",
      "2\n",
      "1\n",
      "0\n"
     ]
    }
   ],
   "source": [
    "# WHILE loops can be written in one line\n",
    "\n",
    "n = 5\n",
    "while n > 0: n -=1; print(n)"
   ]
  },
  {
   "cell_type": "code",
   "execution_count": 22,
   "id": "b7ec78bd-a7e9-4c08-9ebd-295036b38b7e",
   "metadata": {},
   "outputs": [
    {
     "name": "stdout",
     "output_type": "stream",
     "text": [
      "1\n",
      "2\n",
      "4\n",
      "8\n",
      "16\n"
     ]
    }
   ],
   "source": [
    "# FOR loop in Python is collection-based iteration\n",
    "\n",
    "a = [1, 2, 4, 8, 16]\n",
    "\n",
    "for i in a:\n",
    "    print(i)"
   ]
  },
  {
   "cell_type": "code",
   "execution_count": 30,
   "id": "311e2560-5f2f-4ca0-a0ae-05d5b03d88a4",
   "metadata": {},
   "outputs": [
    {
     "name": "stdout",
     "output_type": "stream",
     "text": [
      "<list_iterator object at 0x7f59d45ca790>\n",
      "1\n",
      "2\n",
      "4\n",
      "[1, 2, 4, 8, 16]\n",
      "(1, 2, 4, 8, 16)\n",
      "{1, 2, 4, 8, 16}\n",
      "0\n",
      "1\n",
      "2\n",
      "3\n",
      "4\n"
     ]
    }
   ],
   "source": [
    "# iter() is used to get an iterator from an iteratable object (list, tuple, dictionary, string, etc)\n",
    "\n",
    "a = [1, 2, 4, 8, 16]\n",
    "itr = iter(a)\n",
    "print(itr)\n",
    "\n",
    "# next() is used to iterate to the next value\n",
    "\n",
    "print(next(itr))\n",
    "print(next(itr))\n",
    "print(next(itr))\n",
    "\n",
    "# list() is used to get a list of all iterations of an iterator\n",
    "\n",
    "a = [1, 2, 4, 8, 16]\n",
    "itr = iter(a)\n",
    "print(list(itr))\n",
    "\n",
    "# tuple() and set() retrieve tuples or sets from an iterator\n",
    "\n",
    "a = [1, 2, 4, 8, 16]\n",
    "itr = iter(a)\n",
    "print(tuple(itr))\n",
    "\n",
    "a = [1, 2, 4, 8, 16]\n",
    "itr = iter(a)\n",
    "print(set(itr))\n",
    "\n",
    "# range() function can be used to iterate through a range\n",
    "# SYNTAX: range(<begin>, <end>, <stride>)\n",
    "\n",
    "x = range(5)\n",
    "for n in x:\n",
    "    print(n)\n",
    "    \n",
    "# FOR loops can use break, continue, and else statements"
   ]
  },
  {
   "cell_type": "code",
   "execution_count": null,
   "id": "8c7ef23c-f44f-4ed1-a845-f58adfca7974",
   "metadata": {},
   "outputs": [],
   "source": []
  }
 ],
 "metadata": {
  "kernelspec": {
   "display_name": "Python 3 (ipykernel)",
   "language": "python",
   "name": "python3"
  },
  "language_info": {
   "codemirror_mode": {
    "name": "ipython",
    "version": 3
   },
   "file_extension": ".py",
   "mimetype": "text/x-python",
   "name": "python",
   "nbconvert_exporter": "python",
   "pygments_lexer": "ipython3",
   "version": "3.8.11"
  }
 },
 "nbformat": 4,
 "nbformat_minor": 5
}
