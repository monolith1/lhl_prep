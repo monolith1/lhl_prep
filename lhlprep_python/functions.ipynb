{
 "cells": [
  {
   "cell_type": "code",
   "execution_count": 4,
   "id": "04e28074-8690-4486-beb0-8f124e8b1aa7",
   "metadata": {},
   "outputs": [
    {
     "name": "stdout",
     "output_type": "stream",
     "text": [
      "Hello, world!\n",
      "<function hello_func at 0x7f87a024b4c0>\n"
     ]
    }
   ],
   "source": [
    "# defining a function\n",
    "\n",
    "def hello_func():\n",
    "    print(\"Hello, world!\")\n",
    "\n",
    "hello_func()\n",
    "print(hello_func())"
   ]
  },
  {
   "cell_type": "code",
   "execution_count": 10,
   "id": "9bf12039-1cc4-4fe3-9953-d0ba30b30e08",
   "metadata": {},
   "outputs": [
    {
     "name": "stdout",
     "output_type": "stream",
     "text": [
      "Hello, world!\n",
      "HELLO, WORLD!\n"
     ]
    }
   ],
   "source": [
    "# return statements return information from a function\n",
    "\n",
    "def hello_func2():\n",
    "    return \"Hello, world!\"\n",
    "\n",
    "print(hello_func2())\n",
    "print(hello_func2().upper())"
   ]
  },
  {
   "cell_type": "code",
   "execution_count": 18,
   "id": "1afe7262-e884-471e-ac52-84b89150ec97",
   "metadata": {},
   "outputs": [
    {
     "name": "stdout",
     "output_type": "stream",
     "text": [
      "Hi Function\n",
      "Hi, Corey\n",
      "Hi, You\n",
      "('Math', 'art')\n",
      "{'name': 'John', 'age': 22}\n"
     ]
    }
   ],
   "source": [
    "# create parameters in function in order to accept arguments\n",
    "\n",
    "def hello_func3(greeting):\n",
    "    return greeting + ' Function'\n",
    "\n",
    "print(hello_func3('Hi'))\n",
    "\n",
    "def hello_func4(greeting, name = 'You'):\n",
    "    return greeting + ', ' + name\n",
    "\n",
    "print(hello_func4('Hi', 'Corey'))\n",
    "print(hello_func4('Hi'))\n",
    "\n",
    "# functions can be defined to accept many arguments / keyword arguments - * packs/unpacks list, ** packs/unpacks dictionary\n",
    "\n",
    "def student_info(*args, **kwargs):\n",
    "    print(args)\n",
    "    print(kwargs)\n",
    "    \n",
    "student_info('Math', 'art', name='John', age=22)"
   ]
  },
  {
   "cell_type": "code",
   "execution_count": null,
   "id": "e1abebc7-4c97-4fdb-8c40-2e73697e55e8",
   "metadata": {},
   "outputs": [],
   "source": []
  }
 ],
 "metadata": {
  "kernelspec": {
   "display_name": "Python 3 (ipykernel)",
   "language": "python",
   "name": "python3"
  },
  "language_info": {
   "codemirror_mode": {
    "name": "ipython",
    "version": 3
   },
   "file_extension": ".py",
   "mimetype": "text/x-python",
   "name": "python",
   "nbconvert_exporter": "python",
   "pygments_lexer": "ipython3",
   "version": "3.8.11"
  }
 },
 "nbformat": 4,
 "nbformat_minor": 5
}
