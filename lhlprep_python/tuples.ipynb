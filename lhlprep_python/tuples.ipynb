{
 "cells": [
  {
   "cell_type": "code",
   "execution_count": 5,
   "id": "0c6fe546-ecad-416e-af75-b64377fe66e0",
   "metadata": {},
   "outputs": [
    {
     "name": "stdout",
     "output_type": "stream",
     "text": [
      "('foo', 'bar', 200, Type help() for interactive help, or help(object) for help about object.)\n",
      "(2,)\n",
      "foo\n",
      "bar\n",
      "200\n",
      "Type help() for interactive help, or help(object) for help about object.\n",
      "l\n",
      "o\n",
      "l\n",
      "!\n",
      "late\n",
      "choco\n"
     ]
    }
   ],
   "source": [
    "#tuples are identical to lists, except that they are defined using () instead of [], and they are immutable\n",
    "\n",
    "a = ('foo', 'bar', 200, help)\n",
    "print(a)\n",
    "\n",
    "# to create a singleton tuple, use a trailing comma before the closing parentheses\n",
    "b = (2,)\n",
    "print(b)\n",
    "\n",
    "# Tuples can be unpacked into individual assignments, but must match the len()\n",
    "(s1, s2, s3, s4) = a\n",
    "print(s1)\n",
    "print(s2)\n",
    "print(s3)\n",
    "print(s4)\n",
    "\n",
    "(s1, s2, s3, s4) = ('l', 'o', 'l', '!')\n",
    "print(s1)\n",
    "print(s2)\n",
    "print(s3)\n",
    "print(s4)\n",
    "\n",
    "# tuples can be used to swap variable values fairly easily\n",
    "\n",
    "a = 'choco'\n",
    "b = 'late'\n",
    "\n",
    "a, b = b, a\n",
    "\n",
    "print(a)\n",
    "print(b)"
   ]
  }
 ],
 "metadata": {
  "kernelspec": {
   "display_name": "Python 3 (ipykernel)",
   "language": "python",
   "name": "python3"
  },
  "language_info": {
   "codemirror_mode": {
    "name": "ipython",
    "version": 3
   },
   "file_extension": ".py",
   "mimetype": "text/x-python",
   "name": "python",
   "nbconvert_exporter": "python",
   "pygments_lexer": "ipython3",
   "version": "3.8.11"
  }
 },
 "nbformat": 4,
 "nbformat_minor": 5
}
