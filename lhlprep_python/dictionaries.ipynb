{
 "cells": [
  {
   "cell_type": "code",
   "execution_count": 7,
   "id": "87068842-8b19-4ec4-9ead-0de39eee4a9f",
   "metadata": {},
   "outputs": [
    {
     "name": "stdout",
     "output_type": "stream",
     "text": [
      "{'a': 100, 'b': 200, 'c': 300, 'd': 400, 'e': 500}\n",
      "{'a': 100, 'b': 200, 'c': 300, 'd': 400, 'e': 500}\n",
      "{'a': 100, 'b': 200, 'c': 300, 'd': 400, 'e': 500}\n"
     ]
    }
   ],
   "source": [
    "# a dictionary is a list of key-value pairs, often referred to as an associative array\n",
    "\n",
    "d = {\n",
    "    'a' : 100,\n",
    "    'b' : 200,\n",
    "    'c' : 300,\n",
    "    'd' : 400,\n",
    "    'e' : 500\n",
    "}\n",
    "\n",
    "print(d)\n",
    "\n",
    "d = dict([\n",
    "    ('a', 100),\n",
    "    ('b', 200),\n",
    "    ('c', 300),\n",
    "    ('d', 400),\n",
    "    ('e', 500)\n",
    "])\n",
    "\n",
    "print(d)\n",
    "\n",
    "d = dict(\n",
    "    a=100,\n",
    "    b=200,\n",
    "    c=300,\n",
    "    d=400,\n",
    "    e=500\n",
    ")\n",
    "\n",
    "print(d)"
   ]
  },
  {
   "cell_type": "code",
   "execution_count": 10,
   "id": "e6d03362-5b8e-4933-a094-9632d7fc6bec",
   "metadata": {},
   "outputs": [
    {
     "ename": "KeyError",
     "evalue": "1",
     "output_type": "error",
     "traceback": [
      "\u001b[0;31m---------------------------------------------------------------------------\u001b[0m",
      "\u001b[0;31mKeyError\u001b[0m                                  Traceback (most recent call last)",
      "\u001b[0;32m/tmp/ipykernel_2497/914507212.py\u001b[0m in \u001b[0;36m<module>\u001b[0;34m\u001b[0m\n\u001b[1;32m      9\u001b[0m )\n\u001b[1;32m     10\u001b[0m \u001b[0;34m\u001b[0m\u001b[0m\n\u001b[0;32m---> 11\u001b[0;31m \u001b[0mprint\u001b[0m\u001b[0;34m(\u001b[0m\u001b[0md\u001b[0m\u001b[0;34m[\u001b[0m\u001b[0;36m1\u001b[0m\u001b[0;34m]\u001b[0m\u001b[0;34m)\u001b[0m\u001b[0;34m\u001b[0m\u001b[0;34m\u001b[0m\u001b[0m\n\u001b[0m",
      "\u001b[0;31mKeyError\u001b[0m: 1"
     ]
    }
   ],
   "source": [
    "# dictionaries are not ordered and cannot be accessed by numerical index\n",
    "\n",
    "d = dict(\n",
    "    a=100,\n",
    "    b=200,\n",
    "    c=300,\n",
    "    d=400,\n",
    "    e=500\n",
    ")\n",
    "\n",
    "print(d[1])"
   ]
  },
  {
   "cell_type": "code",
   "execution_count": 17,
   "id": "5e8870d6-fc79-4518-9798-5b8f68301971",
   "metadata": {},
   "outputs": [
    {
     "name": "stdout",
     "output_type": "stream",
     "text": [
      "100\n",
      "{'a': 100, 'b': 200, 'c': 300, 'd': 400, 'e': 500, 'f': 600}\n",
      "{'a': 100, 'b': 1000, 'c': 300, 'd': 400, 'e': 500, 'f': 600}\n",
      "{'a': 100, 'b': 1000, 'c': 300, 'd': 400, 'e': 500}\n",
      "2\n"
     ]
    }
   ],
   "source": [
    "# values are accessed by keys\n",
    "\n",
    "d = dict(\n",
    "    a=100,\n",
    "    b=200,\n",
    "    c=300,\n",
    "    d=400,\n",
    "    e=500\n",
    ")\n",
    "print(d['a'])\n",
    "\n",
    "# add key-value pair to a dictionary\n",
    "\n",
    "d['f'] = 600\n",
    "print(d)\n",
    "\n",
    "# change value for existing key\n",
    "\n",
    "d['b'] = 1000\n",
    "print(d)\n",
    "\n",
    "# delete a key-value paid\n",
    "\n",
    "del d['f']\n",
    "print(d)\n",
    "\n",
    "# access nested lists or dictionaries\n",
    "\n",
    "d['f'] = [1, 2, 4, 8]\n",
    "print(d['f'][1])\n",
    "\n",
    "# dictionary keys must be hashable (immutable), and can only occur once in a given dictionary"
   ]
  },
  {
   "cell_type": "code",
   "execution_count": 30,
   "id": "650852dd-71df-4dbd-aab8-a4c92b31bafb",
   "metadata": {},
   "outputs": [
    {
     "name": "stdout",
     "output_type": "stream",
     "text": [
      "True\n",
      "False\n",
      "False\n",
      "100\n",
      "LOL IT DONT EXIST\n",
      "dict_items([('a', 100), ('b', 200), ('c', 300), ('d', 400), ('e', 500)])\n",
      "dict_keys(['a', 'b', 'c', 'd', 'e'])\n",
      "dict_values([100, 200, 300, 400, 500])\n",
      "500\n",
      "{'a': 100, 'b': 200, 'c': 300, 'd': 400}\n",
      "('d', 400)\n",
      "{'a': 100, 'b': 200, 'c': 300}\n",
      "{'a': 100, 'b': 200, 'c': 300, 'd': 400, 'e': 500}\n",
      "{}\n"
     ]
    }
   ],
   "source": [
    "# in and not in operators work for dictionary keys, not values\n",
    "\n",
    "d = dict(\n",
    "    a=100,\n",
    "    b=200,\n",
    "    c=300,\n",
    "    d=400,\n",
    "    e=500\n",
    ")\n",
    "\n",
    "print('a' in d)\n",
    "print(100 in d)\n",
    "\n",
    "# use this syntax to avoid throwing error if your key isn't in the dictionary\n",
    "\n",
    "print('f' in d and d['f'])\n",
    "print('a' in d and d['a'])\n",
    "\n",
    "# dictionary method d.get() does the smae, but a default return value can be set\n",
    "# SYNTAX: d.get(<key>[, <default>])\n",
    "print(d.get('f', 'LOL IT DONT EXIST'))\n",
    "\n",
    "# returns a list of tuples containing the key:value pairs in d\n",
    "\n",
    "print(d.items())\n",
    "\n",
    "# returns a list of keys in d\n",
    "\n",
    "print(d.keys())\n",
    "\n",
    "# returns a list of values in d\n",
    "\n",
    "print(d.values())\n",
    "\n",
    "# removes a key from a dictionary and returns its value\n",
    "# SYNTAX: d.pop(<key>[, <default>])\n",
    "\n",
    "print(d.pop('e'))\n",
    "print(d)\n",
    "\n",
    "# removes the last key-value pair added from d and returns it as a tuple\n",
    "\n",
    "print(d.popitem())\n",
    "print(d)\n",
    "\n",
    "# merges a dictionary with another dictionary or with an iterable of key:value pairs. if a key exists in both, the dictionary specified as an argument's value is used\n",
    "\n",
    "d2 = {\n",
    "    'd' : 400,\n",
    "    'e' : 500\n",
    "}\n",
    "\n",
    "d.update(d2)\n",
    "print(d)\n",
    "\n",
    "# clears dictionary of all key:value pairs\n",
    "\n",
    "d.clear()\n",
    "print(d)\n",
    "\n"
   ]
  },
  {
   "cell_type": "code",
   "execution_count": null,
   "id": "9874fa18-c45e-4148-8382-2b68c6c48b72",
   "metadata": {},
   "outputs": [],
   "source": []
  }
 ],
 "metadata": {
  "kernelspec": {
   "display_name": "Python 3 (ipykernel)",
   "language": "python",
   "name": "python3"
  },
  "language_info": {
   "codemirror_mode": {
    "name": "ipython",
    "version": 3
   },
   "file_extension": ".py",
   "mimetype": "text/x-python",
   "name": "python",
   "nbconvert_exporter": "python",
   "pygments_lexer": "ipython3",
   "version": "3.8.11"
  }
 },
 "nbformat": 4,
 "nbformat_minor": 5
}
