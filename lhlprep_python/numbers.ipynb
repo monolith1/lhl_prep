{
 "cells": [
  {
   "cell_type": "code",
   "execution_count": 2,
   "id": "41a50339-554e-4400-86d4-8498794e560e",
   "metadata": {},
   "outputs": [
    {
     "name": "stdout",
     "output_type": "stream",
     "text": [
      "20\n",
      "10.0\n"
     ]
    }
   ],
   "source": [
    "# integers and floats\n",
    "\n",
    "integer1 = 10\n",
    "float1 = 20.0\n",
    "\n",
    "print(int(float1))\n",
    "print(float(integer1))"
   ]
  },
  {
   "cell_type": "code",
   "execution_count": 3,
   "id": "f2c1b806-4e3e-4469-8bd6-cd936874f875",
   "metadata": {},
   "outputs": [
    {
     "name": "stdout",
     "output_type": "stream",
     "text": [
      "420\n",
      "200\n",
      "800\n"
     ]
    }
   ],
   "source": [
    "# incrementation\n",
    "\n",
    "num = 400\n",
    "num += 20\n",
    "print(num)\n",
    "\n",
    "num = 400\n",
    "num -= 200\n",
    "print(num)\n",
    "\n",
    "num = 400\n",
    "num *= 2\n",
    "print(num)"
   ]
  },
  {
   "cell_type": "code",
   "execution_count": 5,
   "id": "ee818c7b-ee9b-422b-9fe5-b42e191de73f",
   "metadata": {},
   "outputs": [
    {
     "name": "stdout",
     "output_type": "stream",
     "text": [
      "10\n",
      "6\n",
      "4.0\n",
      "16\n",
      "64\n",
      "0\n",
      "4\n"
     ]
    }
   ],
   "source": [
    "# math operators\n",
    "\n",
    "# addition\n",
    "print(8 + 2)\n",
    "\n",
    "# subtraction\n",
    "print(8 - 2)\n",
    "\n",
    "# division (always returns float)\n",
    "print(8 / 2)\n",
    "\n",
    "# multiplication\n",
    "print(8 * 2)\n",
    "\n",
    "# exponentiation\n",
    "print(8 ** 2)\n",
    "\n",
    "# modulo (returns remainder of division operation)\n",
    "print(8 % 2)\n",
    "\n",
    "# floor division (rounds down to nearest INT value)\n",
    "print(8 // 2)"
   ]
  },
  {
   "cell_type": "code",
   "execution_count": null,
   "id": "994db24b-84f9-400a-8e88-45ab43de4530",
   "metadata": {},
   "outputs": [],
   "source": []
  }
 ],
 "metadata": {
  "kernelspec": {
   "display_name": "Python 3 (ipykernel)",
   "language": "python",
   "name": "python3"
  },
  "language_info": {
   "codemirror_mode": {
    "name": "ipython",
    "version": 3
   },
   "file_extension": ".py",
   "mimetype": "text/x-python",
   "name": "python",
   "nbconvert_exporter": "python",
   "pygments_lexer": "ipython3",
   "version": "3.8.11"
  }
 },
 "nbformat": 4,
 "nbformat_minor": 5
}
