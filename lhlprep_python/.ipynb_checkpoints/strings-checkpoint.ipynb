{
 "cells": [
  {
   "cell_type": "code",
   "execution_count": 2,
   "id": "48914fab-bd63-4f38-8b9b-498655a21b70",
   "metadata": {},
   "outputs": [
    {
     "data": {
      "text/plain": [
       "'2 + 2'"
      ]
     },
     "execution_count": 2,
     "metadata": {},
     "output_type": "execute_result"
    }
   ],
   "source": [
    "# string examples\n",
    "\n",
    "\"M\"\n",
    "\"sljafiohgioajh23145\"\n",
    "\"2 + 2\"\n",
    "'2 + 2'"
   ]
  },
  {
   "cell_type": "code",
   "execution_count": 4,
   "id": "dc66dc94-f20b-4e09-a292-e06b5cf64a23",
   "metadata": {},
   "outputs": [
    {
     "name": "stdout",
     "output_type": "stream",
     "text": [
      "She asked, \"Can't we just leave?\" If only it was that simple.\n"
     ]
    }
   ],
   "source": [
    "# escape characters\n",
    "\n",
    "print(\"She asked, \\\"Can't we just leave?\\\" If only it was that simple.\")"
   ]
  },
  {
   "cell_type": "code",
   "execution_count": 6,
   "id": "bceabba3-c641-4930-af6c-7b43e69bed49",
   "metadata": {},
   "outputs": [
    {
     "name": "stdout",
     "output_type": "stream",
     "text": [
      "adventure\n",
      "adadadad\n",
      "True\n",
      "False\n",
      "True\n"
     ]
    }
   ],
   "source": [
    "# string operators\n",
    "\n",
    "s = \"ad\"\n",
    "t = \"ven\"\n",
    "u = \"ture\"\n",
    "\n",
    "print(s+t+u)\n",
    "\n",
    "print(s*4)\n",
    "\n",
    "print(\"ur\" in u)\n",
    "\n",
    "print(\"b\" in t)\n",
    "\n",
    "print(\"b\" not in t)"
   ]
  },
  {
   "cell_type": "code",
   "execution_count": 7,
   "id": "3b995e15-12d7-402c-b55d-bf85b32f1532",
   "metadata": {},
   "outputs": [
    {
     "name": "stdout",
     "output_type": "stream",
     "text": [
      "V\n",
      "97\n",
      "3\n",
      "14\n"
     ]
    }
   ],
   "source": [
    "# string functions\n",
    "\n",
    "# converts ascii code to character\n",
    "print(chr(86))\n",
    "\n",
    "#converts character to ascii code\n",
    "print(ord(\"a\"))\n",
    "\n",
    "# returns length of a string\n",
    "print(len(\"abc\"))\n",
    "\n",
    "# converts object to string\n",
    "print(str(14))\n"
   ]
  },
  {
   "cell_type": "code",
   "execution_count": 8,
   "id": "f14c8a11-5e7f-4e73-b42c-4b7b172e496e",
   "metadata": {},
   "outputs": [
    {
     "name": "stdout",
     "output_type": "stream",
     "text": [
      "f\n",
      "r\n",
      "a\n"
     ]
    }
   ],
   "source": [
    "# string indexing\n",
    "\n",
    "s = 'foobar'\n",
    "\n",
    "print(s[0])\n",
    "\n",
    "print(s[len(s)-1])\n",
    "\n",
    "print(s[-2])"
   ]
  },
  {
   "cell_type": "code",
   "execution_count": 12,
   "id": "8036750e-3e21-43ed-98ed-08717d3fbb9a",
   "metadata": {},
   "outputs": [
    {
     "name": "stdout",
     "output_type": "stream",
     "text": [
      "obar\n",
      "foob\n",
      "oba\n",
      "fo\n",
      "raboof\n"
     ]
    }
   ],
   "source": [
    "# string slicing\n",
    "\n",
    "s = 'foobar'\n",
    "\n",
    "print(s[2:])\n",
    "\n",
    "print(s[0:4])\n",
    "\n",
    "print(s[-4:-1])\n",
    "\n",
    "print(s[0:4:2])\n",
    "\n",
    "print(s[::-1])"
   ]
  },
  {
   "cell_type": "code",
   "execution_count": 13,
   "id": "9bab9e45-9b8e-41e2-8802-85e6fbf4a9b8",
   "metadata": {},
   "outputs": [
    {
     "name": "stdout",
     "output_type": "stream",
     "text": [
      "The product of 20 and 25 is 500\n"
     ]
    }
   ],
   "source": [
    "# f string\n",
    "\n",
    "n = 20\n",
    "m = 25\n",
    "prod = n * m\n",
    "print(f'The product of {n} and {m} is {prod}')\n"
   ]
  },
  {
   "cell_type": "code",
   "execution_count": 15,
   "id": "7d261409-20a2-4a7d-9c1b-c57e141c9ae7",
   "metadata": {},
   "outputs": [
    {
     "name": "stdout",
     "output_type": "stream",
     "text": [
      "foosar\n",
      "fooxar\n"
     ]
    }
   ],
   "source": [
    "# modifying strings\n",
    "\n",
    "s = 'foobar'\n",
    "\n",
    "x = s[:3] + 's' + s[4:]\n",
    "print(x)\n",
    "\n",
    "s = s.replace('b', 'x')\n",
    "print(s)"
   ]
  },
  {
   "cell_type": "code",
   "execution_count": 31,
   "id": "b6a2cedb-d6fb-4616-a360-79488ae249c8",
   "metadata": {},
   "outputs": [
    {
     "name": "stdout",
     "output_type": "stream",
     "text": [
      "Hasta la vista, baby!!\n",
      "hasta la vista, baby!!\n",
      "HASTA LA VISTA, bABY!!\n",
      "Hasta La Vista, Baby!!\n",
      "HASTA LA VISTA, BABY!!\n",
      "5\n",
      "True\n",
      "-1\n",
      "1\n",
      "-1\n",
      "17\n",
      "False\n",
      "False\n",
      "False\n",
      "False\n",
      "False\n",
      "False\n",
      "True\n",
      "False\n",
      "False\n",
      "False\n"
     ]
    }
   ],
   "source": [
    "# string built-in methods\n",
    "\n",
    "s = \"hasta la vista, Baby!!\"\n",
    "\n",
    "# case conversion\n",
    "\n",
    "# returns capitalization\n",
    "print(s.capitalize())\n",
    "\n",
    "# returns lowercase\n",
    "print(s.lower())\n",
    "\n",
    "# returns swapcase\n",
    "print(s.swapcase())\n",
    "\n",
    "# returns titlecase\n",
    "print(s.title())\n",
    "\n",
    "# returns uppercase\n",
    "print(s.upper())\n",
    "\n",
    "# find and replace\n",
    "\n",
    "# counts occurrences of a substring in the target string\n",
    "# SYNTAX: s.count(<sub>[, <start>[, <end>]])\n",
    "print(s.count('a'))\n",
    "\n",
    "# determines whether the target string ends with a given substring\n",
    "# SYNTAX: s.endswith(<suffix>[, <start>[, <end>]])\n",
    "print(s.endswith('!'))\n",
    "\n",
    "# searches the target string for a given substring, returning the lowest index where the substring is found or -1 if not found\n",
    "# SYNTAX: s.find(<sub>[, <start>[, <end>]])\n",
    "print(s.find('nope'))\n",
    "\n",
    "# searches the target string for a given substring, operating the same as s.find but raising an exception if substring isn't found rather than returning -1\n",
    "# SYNTAX: s.index(<sub>[, <start>[, <end>]])\n",
    "print(s.index('a'))\n",
    "\n",
    "# searches the target string for a given substring starting at the end, returning -1 if the subtring is not found\n",
    "# SYNTAX: s.rfind(<sub>[, <start>[, <end>]])\n",
    "print(s.rfind('nope'))\n",
    "\n",
    "# same as index, except starting from the end of the string\n",
    "# SYNTAX: s.rindex(<sub>[, <start>[, <end>]])\n",
    "print(s.rindex('a'))\n",
    "\n",
    "# determines whether the target string starts with a given substring\n",
    "# SYNTAX: s.startswith(<prefix>[, <start>[, <end>]])\n",
    "print(s.startswith('cho'))\n",
    "\n",
    "# character classification\n",
    "\n",
    "# determines whether the target string consists of alphanumeric characters\n",
    "print(s.isalnum())\n",
    "\n",
    "# determines whether the target string consists of alphabetic characters\n",
    "print(s.isalpha())\n",
    "\n",
    "# determines whether the target string consists of digit characters\n",
    "print(s.isdigit())\n",
    "\n",
    "# determines whether the string is a valid Python identifier\n",
    "print(s.isidentifier())\n",
    "\n",
    "# determines wehther the target string's alphabetic characters are lowercase\n",
    "print(s.islower())\n",
    "\n",
    "# determines whether the target string consists of entirely printable characters (no escape characters etc) - is also the only isxxx() method to return TRUE in the case of an empty string\n",
    "print(s.isprintable())\n",
    "\n",
    "# returns TRUE if s is nonempty and all characters are whitespace characters, and FALSE otherwise\n",
    "print(s.isspace())\n",
    "\n",
    "# determines whether the target string is title cased\n",
    "print(s.istitle())\n",
    "\n",
    "# determines whether the target string's alphabetic characters are uppercase\n",
    "print(s.isupper())"
   ]
  },
  {
   "cell_type": "code",
   "execution_count": null,
   "id": "9f093668-1cea-4d79-bfbc-a6f7dbfece3f",
   "metadata": {},
   "outputs": [],
   "source": []
  },
  {
   "cell_type": "code",
   "execution_count": null,
   "id": "9738bddb-04be-42a0-a3db-33f8ec345235",
   "metadata": {},
   "outputs": [],
   "source": []
  }
 ],
 "metadata": {
  "kernelspec": {
   "display_name": "Python 3 (ipykernel)",
   "language": "python",
   "name": "python3"
  },
  "language_info": {
   "codemirror_mode": {
    "name": "ipython",
    "version": 3
   },
   "file_extension": ".py",
   "mimetype": "text/x-python",
   "name": "python",
   "nbconvert_exporter": "python",
   "pygments_lexer": "ipython3",
   "version": "3.8.11"
  }
 },
 "nbformat": 4,
 "nbformat_minor": 5
}
