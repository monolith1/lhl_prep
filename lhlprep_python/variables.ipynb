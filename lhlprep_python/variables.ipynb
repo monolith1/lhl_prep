{
 "cells": [
  {
   "cell_type": "code",
   "execution_count": 1,
   "id": "7d6f91db-3fcd-4318-b72f-40684fe279e2",
   "metadata": {},
   "outputs": [
    {
     "name": "stdout",
     "output_type": "stream",
     "text": [
      "1000\n"
     ]
    }
   ],
   "source": [
    "# basic variable assignment\n",
    "\n",
    "n = 1000\n",
    "print(n)"
   ]
  },
  {
   "cell_type": "code",
   "execution_count": 2,
   "id": "896f76e7-1837-4b1f-930f-3ff7c99dc13a",
   "metadata": {},
   "outputs": [
    {
     "name": "stdout",
     "output_type": "stream",
     "text": [
      "300 300 300\n"
     ]
    }
   ],
   "source": [
    "# chained variable assignment\n",
    "\n",
    "a = b = c = 300\n",
    "print(a,b,c)"
   ]
  },
  {
   "cell_type": "code",
   "execution_count": 4,
   "id": "2d6afbd0-97f8-4d06-85fe-b6ba771e28c7",
   "metadata": {},
   "outputs": [
    {
     "name": "stdout",
     "output_type": "stream",
     "text": [
      "<class 'int'>\n",
      "<class 'str'>\n"
     ]
    }
   ],
   "source": [
    "# type assignment\n",
    "\n",
    "n = 300\n",
    "print(type(n))\n",
    "n = \"String\"\n",
    "print(type(n))"
   ]
  },
  {
   "cell_type": "code",
   "execution_count": 7,
   "id": "1fd1f3d6-f0c5-4b85-b1be-7417fbb16970",
   "metadata": {},
   "outputs": [
    {
     "name": "stdout",
     "output_type": "stream",
     "text": [
      "140143038543152\n",
      "140143038542640\n",
      "140143038542640\n"
     ]
    }
   ],
   "source": [
    "# object identity\n",
    "\n",
    "m = 300\n",
    "n = 300\n",
    "o = n\n",
    "\n",
    "print(id(m))\n",
    "print(id(n))\n",
    "print(id(o))\n",
    "\n",
    "# note that int in the range [-5, 256] are pre cached and given ids at startup"
   ]
  }
 ],
 "metadata": {
  "kernelspec": {
   "display_name": "Python 3 (ipykernel)",
   "language": "python",
   "name": "python3"
  },
  "language_info": {
   "codemirror_mode": {
    "name": "ipython",
    "version": 3
   },
   "file_extension": ".py",
   "mimetype": "text/x-python",
   "name": "python",
   "nbconvert_exporter": "python",
   "pygments_lexer": "ipython3",
   "version": "3.8.11"
  }
 },
 "nbformat": 4,
 "nbformat_minor": 5
}
