{
 "cells": [
  {
   "cell_type": "code",
   "execution_count": 1,
   "id": "c7e63489-55f9-4251-97fc-b8f42c6c0e54",
   "metadata": {},
   "outputs": [],
   "source": [
    "# import numpy \n",
    "import numpy as np"
   ]
  },
  {
   "cell_type": "code",
   "execution_count": 2,
   "id": "7d6dbaff-c27e-4fa8-892c-120d0cee9f72",
   "metadata": {},
   "outputs": [],
   "source": [
    "# how many times we run the simulation\n",
    "n_runs = 100000\n",
    "\n",
    "# initialize variables\n",
    "SAM = 0\n",
    "SAM_YES = 0\n",
    "SAM_NO = 0\n",
    "ALEX = 0\n",
    "ALEX_YES = 0\n",
    "ALEX_NO = 0\n",
    "YES = 0\n",
    "NO = 0"
   ]
  },
  {
   "cell_type": "code",
   "execution_count": 3,
   "id": "d13e0d7f-a0d5-47e1-83a3-55b6fec3c7a3",
   "metadata": {},
   "outputs": [],
   "source": [
    "# process simulation\n",
    "for _ in range(n_runs):\n",
    "    # Sam (probability of Sam being the coach)\n",
    "    if np.random.random() < 0.6: \n",
    "        SAM += 1\n",
    "\n",
    "        # YES\n",
    "        if np.random.random() < 0.5:\n",
    "            SAM_YES += 1\n",
    "            YES +=1\n",
    "\n",
    "        # NO\n",
    "        else:\n",
    "            SAM_NO += 1\n",
    "            NO += 1\n",
    "\n",
    "    #Alex (probability of Alex being the coach)\n",
    "    else:\n",
    "        ALEX += 1\n",
    "\n",
    "        # YES\n",
    "        if np.random.random() < 0.3:\n",
    "            ALEX_YES += 1\n",
    "            YES += 1\n",
    "\n",
    "        # NO\n",
    "        else:\n",
    "            ALEX_NO += 1\n",
    "            NO +=1"
   ]
  },
  {
   "cell_type": "code",
   "execution_count": 4,
   "id": "427e2b86-b004-4a84-9d6d-fd3cb11bf6d3",
   "metadata": {},
   "outputs": [],
   "source": [
    "# create probabilities\n",
    "P_SAM = SAM / n_runs * 100\n",
    "P_SAM_YES = SAM_YES / n_runs * 100\n",
    "P_SAM_NO = SAM_NO / n_runs * 100\n",
    "P_ALEX = ALEX / n_runs * 100\n",
    "P_ALEX_YES = ALEX_YES / n_runs * 100\n",
    "P_ALEX_NO = ALEX_NO / n_runs * 100\n",
    "P_YES = YES / n_runs * 100\n",
    "P_NO = NO / n_runs * 100"
   ]
  },
  {
   "cell_type": "code",
   "execution_count": 5,
   "id": "1d9bfe97-d370-4b53-a27f-9b54e870dc62",
   "metadata": {},
   "outputs": [
    {
     "name": "stdout",
     "output_type": "stream",
     "text": [
      "Sam is the coach: 59.958%\n",
      "Sam is the coach and you are the goalkeeper: 30.171%\n",
      "Sam is the coach and you are not the goalkeeper: 29.787000000000003%\n",
      "Alex is the coach: 40.042%\n",
      "Alex is the coach and you are the goalkeeper: 11.964%\n",
      "Alex is the coach and you are not the goalkeeper: 28.077999999999996%\n",
      "You are the goalkeeper: 42.135%\n",
      "You are not the goalkeeper: 57.865\n"
     ]
    }
   ],
   "source": [
    "print(f'Sam is the coach: {P_SAM}%')\n",
    "print(f'Sam is the coach and you are the goalkeeper: {P_SAM_YES}%')\n",
    "print(f'Sam is the coach and you are not the goalkeeper: {P_SAM_NO}%')\n",
    "print(f'Alex is the coach: {P_ALEX}%')\n",
    "print(f'Alex is the coach and you are the goalkeeper: {P_ALEX_YES}%')\n",
    "print(f'Alex is the coach and you are not the goalkeeper: {P_ALEX_NO}%')\n",
    "print(f'You are the goalkeeper: {P_YES}%')\n",
    "print(f'You are not the goalkeeper: {P_NO}')"
   ]
  },
  {
   "cell_type": "code",
   "execution_count": null,
   "id": "2b33da5f-f4d5-4926-86c4-cfb8c0b43777",
   "metadata": {},
   "outputs": [],
   "source": []
  }
 ],
 "metadata": {
  "kernelspec": {
   "display_name": "Python 3 (ipykernel)",
   "language": "python",
   "name": "python3"
  },
  "language_info": {
   "codemirror_mode": {
    "name": "ipython",
    "version": 3
   },
   "file_extension": ".py",
   "mimetype": "text/x-python",
   "name": "python",
   "nbconvert_exporter": "python",
   "pygments_lexer": "ipython3",
   "version": "3.8.11"
  }
 },
 "nbformat": 4,
 "nbformat_minor": 5
}
