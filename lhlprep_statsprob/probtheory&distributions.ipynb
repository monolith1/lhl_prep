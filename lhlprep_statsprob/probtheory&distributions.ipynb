{
 "cells": [
  {
   "cell_type": "markdown",
   "id": "0095dfd3-3541-4c85-8641-f08009f22c4b",
   "metadata": {},
   "source": [
    "<title>Importing Libraries</title>"
   ]
  },
  {
   "cell_type": "code",
   "execution_count": 2,
   "id": "6328fd50-d14b-48d8-91b0-0ae694f80a6c",
   "metadata": {},
   "outputs": [],
   "source": [
    "import numpy as np\n",
    "import matplotlib.pyplot as plt\n",
    "from collections import Counter\n",
    "\n",
    "# set the plot style\n",
    "plt.style.use('fivethirtyeight')"
   ]
  },
  {
   "cell_type": "code",
   "execution_count": 3,
   "id": "d5bf39af-7b3a-48d4-9adc-a7789039dc15",
   "metadata": {},
   "outputs": [
    {
     "data": {
      "text/plain": [
       "0.6805318657635252"
      ]
     },
     "execution_count": 3,
     "metadata": {},
     "output_type": "execute_result"
    }
   ],
   "source": [
    "# To generate a random number between 0 and 1 (zero included, one excluded) we will use random() function from numpy.random module.\n",
    "\n",
    "random_num = np.random.random()\n",
    "random_num"
   ]
  },
  {
   "cell_type": "code",
   "execution_count": 4,
   "id": "3a1eedf8-7a65-4dec-8084-785daaa97cc5",
   "metadata": {},
   "outputs": [
    {
     "data": {
      "text/plain": [
       "array([0.77066373, 0.74144333, 0.84075241, 0.27987116])"
      ]
     },
     "execution_count": 4,
     "metadata": {},
     "output_type": "execute_result"
    }
   ],
   "source": [
    "# generate 4 random numbers from the interval  <0,1)\n",
    "\n",
    "random_num = np.random.random(4)\n",
    "random_num"
   ]
  },
  {
   "cell_type": "code",
   "execution_count": 5,
   "id": "e63ce141-b5e9-4429-9fe2-82847ed5c7c6",
   "metadata": {},
   "outputs": [],
   "source": [
    "# numpy.random.random() takes a seed to start the sequence - if given the smae seed, it will produce the same 'random' results\n",
    "\n",
    "# this sets the seed to number 42\n",
    "np.random.seed(42)"
   ]
  },
  {
   "cell_type": "markdown",
   "id": "05787b1b-f83a-4628-aa5a-49c8c5f23354",
   "metadata": {},
   "source": [
    "<title>Binomial Distribution (Discrete Distribution)</title>"
   ]
  },
  {
   "cell_type": "code",
   "execution_count": 8,
   "id": "83be391f-b2ce-4890-939a-0968bc9de373",
   "metadata": {},
   "outputs": [
    {
     "data": {
      "text/plain": [
       "array([ 4,  5,  7,  6,  6,  6,  6,  7,  4,  5,  4,  8,  7,  2,  6,  7,  4,\n",
       "        5,  7,  2,  6,  4,  7,  8,  7,  5,  7,  7,  4,  7,  2,  5,  4,  3,\n",
       "        3,  6,  4,  6,  3,  4,  5,  6,  4,  6,  7,  5,  4,  2,  7,  2,  7,\n",
       "        5,  7,  6,  9,  4,  6,  5,  5,  6,  7,  8,  6,  5,  5,  6,  4,  3,\n",
       "        4,  4,  4,  4,  2,  2,  8,  5,  5,  6,  4,  8,  6,  3,  5,  7,  7,\n",
       "        5,  5,  3,  9,  4,  7,  6,  5,  5,  4,  4,  4,  4,  6,  4,  3,  8,\n",
       "        7,  7,  9,  4,  5,  6,  6,  3,  6,  4,  4,  5,  5,  5,  3,  7,  4,\n",
       "        3,  7,  8,  7,  6,  6,  5,  3,  5,  4,  4,  6,  5,  3,  4,  6,  3,\n",
       "        7,  5,  5,  5,  6,  4,  6,  5,  4,  7,  6,  6,  7,  7,  6,  7,  6,\n",
       "        6,  5,  6,  3,  7,  7,  2,  6,  3,  4,  6,  3,  6,  7,  5,  1,  4,\n",
       "        5,  8,  6,  4,  6,  5,  6,  3,  6,  5,  8,  4,  6,  7,  3,  7,  6,\n",
       "        3,  4,  6,  3,  5,  4,  5,  2,  7,  8,  8,  6,  3,  6,  2,  2,  4,\n",
       "        5,  6,  6,  5,  4,  9,  5,  5,  3,  6,  6,  4,  3,  6,  6,  4,  8,\n",
       "        3,  5,  7,  5,  6,  5,  4,  8,  5,  7,  4,  4,  2,  6,  4,  7,  5,\n",
       "        8,  4,  7,  6,  6,  7,  6,  6,  3,  2,  7,  5,  6,  5,  3,  3,  6,\n",
       "        5,  4,  5,  3,  5,  4,  6,  4,  5,  2,  3,  5,  5,  5,  4,  6,  7,\n",
       "        6,  2,  5,  3,  4,  8,  3,  5,  5,  6,  5,  1,  4,  5,  3,  4,  2,\n",
       "        3,  5,  3,  5,  6,  6,  4,  3,  3,  6,  6,  2,  7,  2,  5,  6,  7,\n",
       "        6,  6,  4,  6,  3,  7,  5,  6,  5,  6,  5,  6,  3,  3,  4,  3,  7,\n",
       "        4,  8,  4,  4,  6,  6,  5,  5,  6,  4,  9,  8,  6,  4,  6,  3,  2,\n",
       "        4,  5,  7,  6,  6,  5,  4,  4,  8,  2,  7,  5,  5,  6,  5,  7,  7,\n",
       "        5,  4,  5,  7,  4,  5,  6,  6,  3,  6,  7,  4,  4,  8,  4,  7,  5,\n",
       "        4,  7,  5,  5,  4,  5,  3,  5,  8,  4,  6,  4,  6,  3,  8,  5,  4,\n",
       "        3,  3,  5,  4,  7,  5,  4,  5,  6,  3,  3,  2,  6,  6,  5,  7,  6,\n",
       "        5,  7,  4,  3,  4,  3,  5,  7,  2,  3,  5,  7,  4,  5,  2,  3,  8,\n",
       "        8,  1,  8,  6,  7,  5,  5,  5,  6,  3,  2,  4,  6,  4,  6,  8,  3,\n",
       "        6,  5,  7,  4,  6,  7,  7,  6,  5,  5,  7,  5,  2,  7,  6,  6,  4,\n",
       "        6,  5,  6,  3,  6, 10,  2,  8,  5,  7,  6,  5,  6,  7,  5,  4,  6,\n",
       "        6,  6,  6,  5,  6,  3,  5,  1,  4,  4,  5,  6,  5,  5,  4,  4,  4,\n",
       "        3,  5,  6,  5,  5,  5,  7,  5,  5,  2,  4,  5,  5,  5,  5,  5,  6,\n",
       "        6,  6,  8,  2,  4,  1,  6,  7,  4,  7,  3,  7,  4,  3,  5,  4,  4,\n",
       "        4,  6,  5,  4,  5,  6,  4,  5,  3,  4,  6,  4,  5,  6,  3,  5,  4,\n",
       "        8,  5,  6,  5,  2,  6,  8,  5,  6,  7,  4,  4,  5,  5,  7,  7,  4,\n",
       "        4,  6,  4,  6,  5,  6,  3,  6,  5,  5,  3,  6,  7,  4,  3,  2,  6,\n",
       "        5,  5,  4,  5,  5,  5,  8,  3,  6,  5,  5,  6,  6,  9,  3,  3,  6,\n",
       "        5,  4,  3,  3,  7,  4,  4,  4,  4,  3,  5,  3,  6,  4,  5,  7,  6,\n",
       "        5,  4,  4,  6,  9,  6,  5,  6,  5,  3,  5,  8,  4,  6,  4,  5,  3,\n",
       "        5,  6,  4,  6,  6,  7,  4,  5,  3,  9,  7,  5,  7,  5,  6,  3,  6,\n",
       "        3,  6,  6,  6,  2,  4,  4,  4,  3,  7,  5,  4,  5,  5,  5,  5,  7,\n",
       "        5,  9,  7,  4,  7,  3,  6,  5,  7,  7,  6,  6,  4,  3,  5,  4,  6,\n",
       "        4,  8,  6,  6,  3,  7,  7,  5,  5,  6,  4,  5,  5,  3,  4,  3,  2,\n",
       "        3,  8,  5,  8,  5,  4,  5,  5,  3,  6,  4,  5,  6,  3,  3,  6,  5,\n",
       "        3,  9,  3,  6,  8,  4,  3,  3,  4,  3,  6,  3,  5,  9,  6,  5,  4,\n",
       "        6,  5,  5,  3,  7,  5,  4,  4,  5,  6,  6,  6,  2,  5,  5,  2,  4,\n",
       "        6,  3,  5,  4,  2,  4,  8,  6,  8,  5,  3,  5,  5,  7,  3,  5,  3,\n",
       "        4,  6,  5,  4,  5,  5,  6,  7,  8,  6,  4,  6,  5,  4,  7,  2,  7,\n",
       "        5,  6,  6,  7,  6,  5,  3,  5,  3,  6,  5,  6,  2,  3,  6,  3,  3,\n",
       "        2,  8,  6,  4,  4,  4,  6,  6,  4,  4,  3,  6,  6,  4,  2,  3,  8,\n",
       "        4,  6,  6,  5,  4,  3,  5,  6,  6,  5,  2,  8,  6,  4,  8,  5,  5,\n",
       "        6,  6,  6,  3,  4,  7,  4,  4,  5,  5,  5,  7,  4,  3,  4,  7,  6,\n",
       "        4,  6,  7,  7,  7,  4,  6,  5,  7,  6,  6,  6,  4,  5,  8,  7,  2,\n",
       "        3,  3,  6,  6,  4,  5,  7,  6,  5,  5,  5,  4,  5,  6,  7,  6,  6,\n",
       "        3,  5,  1,  4,  6,  9,  3,  5,  6,  4,  5,  6,  5,  4,  4,  6,  5,\n",
       "        1,  6,  2,  6,  4,  8,  4,  4,  3,  4,  7,  9,  4,  5,  6,  7,  5,\n",
       "        5,  5,  6,  1,  5,  4,  6,  3,  5,  5,  6,  3,  5,  5,  5,  5,  6,\n",
       "        6,  4,  6,  5,  3,  3,  4,  6,  6,  6,  5,  5,  3,  4,  5,  3,  4,\n",
       "        5,  6,  9,  7,  6,  5,  6,  6,  3,  5,  7,  5,  5,  5,  4,  4,  4,\n",
       "        2,  2,  7,  4,  5,  4,  7,  4,  5,  7,  7,  4,  6,  5,  5,  3,  3,\n",
       "        6,  5,  5,  6,  6,  3,  5,  3,  6,  6,  8,  3,  3,  4])"
      ]
     },
     "execution_count": 8,
     "metadata": {},
     "output_type": "execute_result"
    }
   ],
   "source": [
    "# n = the number of coin tosses\n",
    "# p = the probability of getting heads\n",
    "# size = the number of repeats \n",
    "\n",
    "n = 10\n",
    "p = 0.5\n",
    "size = 1000\n",
    "\n",
    "samples = np.random.binomial(n, p, size)\n",
    "\n",
    "# each number in the array represents how many times out of 10 tosses we get heads.\n",
    "samples"
   ]
  },
  {
   "cell_type": "code",
   "execution_count": 9,
   "id": "2dcf5f9b-709d-4fcd-b32f-5e1b55c795e2",
   "metadata": {},
   "outputs": [],
   "source": [
    "# count the occurrence of each number\n",
    "\n",
    "head_occu_count = Counter(samples)"
   ]
  },
  {
   "cell_type": "code",
   "execution_count": 10,
   "id": "d23d22b3-98e4-45fc-b57d-80283b08b9ea",
   "metadata": {},
   "outputs": [],
   "source": [
    "# calculate the probabilities as the number of occurences / size\n",
    "\n",
    "head_proba = [val/size for val in head_occu_count.values()]"
   ]
  },
  {
   "cell_type": "code",
   "execution_count": 11,
   "id": "2341a149-e88f-4aac-8c56-4470ab2478dc",
   "metadata": {},
   "outputs": [
    {
     "data": {
      "image/png": "[encoded data removed]",
      "text/plain": [
       "<Figure size 432x288 with 1 Axes>"
      ]
     },
     "metadata": {},
     "output_type": "display_data"
    }
   ],
   "source": [
    "# plot the distribution\n",
    "\n",
    "plt.scatter(x=head_occu_count.keys(), y=head_proba)\n",
    "plt.xlabel('number of heads out of 10 tosses')\n",
    "plt.ylabel('probability')\n",
    "\n",
    "# show the plot\n",
    "plt.show()"
   ]
  },
  {
   "cell_type": "markdown",
   "id": "420753f0-f946-4a07-943e-1a7ff5ef92d7",
   "metadata": {},
   "source": [
    "<title>Normal Distribution (Continuous Distribution)</title>"
   ]
  },
  {
   "cell_type": "code",
   "execution_count": 13,
   "id": "9433e7ba-7c41-44bd-9fa3-9f569ce30459",
   "metadata": {},
   "outputs": [],
   "source": [
    "# generate normally distributed data\n",
    "\n",
    "# loc = mean (“a centre”) of the distribution.\n",
    "# scale = standard deviation (a spread or “a width”) of the distribution.\n",
    "\n",
    "samples = np.random.normal(loc=0, scale=1, size = 1000000)"
   ]
  },
  {
   "cell_type": "code",
   "execution_count": 14,
   "id": "78257c82-ac25-429e-b6eb-d85c94c56184",
   "metadata": {},
   "outputs": [
    {
     "data": {
      "image/png": "[encoded data removed]",
      "text/plain": [
       "<Figure size 432x288 with 1 Axes>"
      ]
     },
     "metadata": {},
     "output_type": "display_data"
    }
   ],
   "source": [
    "# plot the distribution ie the probability density function\n",
    "\n",
    "plt.hist(samples, density=True, histtype=\"step\", bins=100)\n",
    "\n",
    "# show the plot\n",
    "plt.show()"
   ]
  },
  {
   "cell_type": "code",
   "execution_count": 15,
   "id": "63ec9270-379e-4430-80f3-6764d0326aad",
   "metadata": {},
   "outputs": [
    {
     "data": {
      "image/png": "[encoded data removed]",
      "text/plain": [
       "<Figure size 432x288 with 1 Axes>"
      ]
     },
     "metadata": {},
     "output_type": "display_data"
    }
   ],
   "source": [
    "# examples where std parameter is changed (higher std value means distribution is more spread out\n",
    "\n",
    "samples_std1 = np.random.normal(20, 1, size=100000)\n",
    "samples_std3 = np.random.normal(20, 3, size=100000)\n",
    "samples_std10 = np.random.normal(20, 10, size=100000)\n",
    "\n",
    "# make histograms\n",
    "plt.hist(samples_std1, density = True, histtype=\"step\", bins=100)\n",
    "plt.hist(samples_std3, density = True, histtype=\"step\", bins=100)\n",
    "plt.hist(samples_std10, density = True, histtype=\"step\", bins=100)\n",
    "\n",
    "# make a legend, set limits, and show the plot\n",
    "plt.legend(('std = 1', 'std = 3', 'std = 10'))\n",
    "plt.ylim(-0.01, 0.42)\n",
    "plt.show()"
   ]
  },
  {
   "cell_type": "code",
   "execution_count": 16,
   "id": "3d7f0c72-ccb0-4832-9df1-040be71744fc",
   "metadata": {},
   "outputs": [
    {
     "data": {
      "image/png": "[encoded data removed]",
      "text/plain": [
       "<Figure size 432x288 with 1 Axes>"
      ]
     },
     "metadata": {},
     "output_type": "display_data"
    }
   ],
   "source": [
    "# if we change mean values, distributions don't change but they shift along x axis\n",
    "\n",
    "samples_std1 = np.random.normal(10, 3, size=100000)\n",
    "samples_std3 = np.random.normal(20, 3, size=100000)\n",
    "samples_std10 = np.random.normal(30, 3, size=100000)\n",
    "\n",
    "# make histograms\n",
    "plt.hist(samples_std1, density = True, histtype=\"step\", bins=100)\n",
    "plt.hist(samples_std3, density = True, histtype=\"step\", bins=100)\n",
    "plt.hist(samples_std10, density = True, histtype=\"step\", bins=100)\n",
    "\n",
    "# make a legend, set limits, and show the plot\n",
    "plt.legend(('mean = 10', 'mean = 20', 'mean = 30'))\n",
    "plt.ylim(-0.01, 0.42)\n",
    "plt.show()"
   ]
  },
  {
   "cell_type": "code",
   "execution_count": null,
   "id": "c913f701-59d1-47b7-a1e4-ca8215cc43d6",
   "metadata": {},
   "outputs": [],
   "source": []
  }
 ],
 "metadata": {
  "kernelspec": {
   "display_name": "Python 3 (ipykernel)",
   "language": "python",
   "name": "python3"
  },
  "language_info": {
   "codemirror_mode": {
    "name": "ipython",
    "version": 3
   },
   "file_extension": ".py",
   "mimetype": "text/x-python",
   "name": "python",
   "nbconvert_exporter": "python",
   "pygments_lexer": "ipython3",
   "version": "3.8.11"
  }
 },
 "nbformat": 4,
 "nbformat_minor": 5
}
